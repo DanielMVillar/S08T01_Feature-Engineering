{
 "cells": [
  {
   "cell_type": "markdown",
   "id": "278138da",
   "metadata": {},
   "source": [
    "### Exercici 1\n",
    "#### Agafa un conjunt de dades de tema esportiu que t'agradi"
   ]
  },
  {
   "cell_type": "code",
   "execution_count": 1,
   "id": "a5419063",
   "metadata": {},
   "outputs": [],
   "source": [
    "import numpy as np #library for scientific computing\n",
    "import pandas as pd #library for dataframes \n",
    "import matplotlib.pyplot as plt #graphic library\n",
    "import seaborn as sns #advanced graphic library based on matplotlib\n",
    "import statistics #library for statistics\n",
    "import warnings #library to manage warnings\n",
    "import scipy #library with algorithms for statistics and scientific computing\n",
    "\n",
    "warnings.filterwarnings('ignore')"
   ]
  },
  {
   "cell_type": "code",
   "execution_count": 2,
   "id": "ff947f6d",
   "metadata": {},
   "outputs": [
    {
     "data": {
      "text/html": [
       "<div>\n",
       "<style scoped>\n",
       "    .dataframe tbody tr th:only-of-type {\n",
       "        vertical-align: middle;\n",
       "    }\n",
       "\n",
       "    .dataframe tbody tr th {\n",
       "        vertical-align: top;\n",
       "    }\n",
       "\n",
       "    .dataframe thead th {\n",
       "        text-align: right;\n",
       "    }\n",
       "</style>\n",
       "<table border=\"1\" class=\"dataframe\">\n",
       "  <thead>\n",
       "    <tr style=\"text-align: right;\">\n",
       "      <th></th>\n",
       "      <th>R_fighter</th>\n",
       "      <th>B_fighter</th>\n",
       "      <th>Referee</th>\n",
       "      <th>date</th>\n",
       "      <th>location</th>\n",
       "      <th>Winner</th>\n",
       "      <th>title_bout</th>\n",
       "      <th>weight_class</th>\n",
       "      <th>B_avg_KD</th>\n",
       "      <th>B_avg_opp_KD</th>\n",
       "      <th>...</th>\n",
       "      <th>R_win_by_Decision_Unanimous</th>\n",
       "      <th>R_win_by_KO/TKO</th>\n",
       "      <th>R_win_by_Submission</th>\n",
       "      <th>R_win_by_TKO_Doctor_Stoppage</th>\n",
       "      <th>R_Stance</th>\n",
       "      <th>R_Height_cms</th>\n",
       "      <th>R_Reach_cms</th>\n",
       "      <th>R_Weight_lbs</th>\n",
       "      <th>B_age</th>\n",
       "      <th>R_age</th>\n",
       "    </tr>\n",
       "  </thead>\n",
       "  <tbody>\n",
       "    <tr>\n",
       "      <th>0</th>\n",
       "      <td>Adrian Yanez</td>\n",
       "      <td>Gustavo Lopez</td>\n",
       "      <td>Chris Tognoni</td>\n",
       "      <td>2021-03-20</td>\n",
       "      <td>Las Vegas, Nevada, USA</td>\n",
       "      <td>Red</td>\n",
       "      <td>False</td>\n",
       "      <td>Bantamweight</td>\n",
       "      <td>0.000</td>\n",
       "      <td>0.0</td>\n",
       "      <td>...</td>\n",
       "      <td>0</td>\n",
       "      <td>1</td>\n",
       "      <td>0</td>\n",
       "      <td>0</td>\n",
       "      <td>Orthodox</td>\n",
       "      <td>170.18</td>\n",
       "      <td>177.80</td>\n",
       "      <td>135.0</td>\n",
       "      <td>31.0</td>\n",
       "      <td>27.0</td>\n",
       "    </tr>\n",
       "    <tr>\n",
       "      <th>1</th>\n",
       "      <td>Trevin Giles</td>\n",
       "      <td>Roman Dolidze</td>\n",
       "      <td>Herb Dean</td>\n",
       "      <td>2021-03-20</td>\n",
       "      <td>Las Vegas, Nevada, USA</td>\n",
       "      <td>Red</td>\n",
       "      <td>False</td>\n",
       "      <td>Middleweight</td>\n",
       "      <td>0.500</td>\n",
       "      <td>0.0</td>\n",
       "      <td>...</td>\n",
       "      <td>0</td>\n",
       "      <td>3</td>\n",
       "      <td>0</td>\n",
       "      <td>0</td>\n",
       "      <td>Orthodox</td>\n",
       "      <td>182.88</td>\n",
       "      <td>187.96</td>\n",
       "      <td>185.0</td>\n",
       "      <td>32.0</td>\n",
       "      <td>28.0</td>\n",
       "    </tr>\n",
       "    <tr>\n",
       "      <th>2</th>\n",
       "      <td>Tai Tuivasa</td>\n",
       "      <td>Harry Hunsucker</td>\n",
       "      <td>Herb Dean</td>\n",
       "      <td>2021-03-20</td>\n",
       "      <td>Las Vegas, Nevada, USA</td>\n",
       "      <td>Red</td>\n",
       "      <td>False</td>\n",
       "      <td>Heavyweight</td>\n",
       "      <td>NaN</td>\n",
       "      <td>NaN</td>\n",
       "      <td>...</td>\n",
       "      <td>1</td>\n",
       "      <td>3</td>\n",
       "      <td>0</td>\n",
       "      <td>0</td>\n",
       "      <td>Southpaw</td>\n",
       "      <td>187.96</td>\n",
       "      <td>190.50</td>\n",
       "      <td>264.0</td>\n",
       "      <td>32.0</td>\n",
       "      <td>28.0</td>\n",
       "    </tr>\n",
       "    <tr>\n",
       "      <th>3</th>\n",
       "      <td>Cheyanne Buys</td>\n",
       "      <td>Montserrat Conejo</td>\n",
       "      <td>Mark Smith</td>\n",
       "      <td>2021-03-20</td>\n",
       "      <td>Las Vegas, Nevada, USA</td>\n",
       "      <td>Blue</td>\n",
       "      <td>False</td>\n",
       "      <td>WomenStrawweight</td>\n",
       "      <td>NaN</td>\n",
       "      <td>NaN</td>\n",
       "      <td>...</td>\n",
       "      <td>0</td>\n",
       "      <td>0</td>\n",
       "      <td>0</td>\n",
       "      <td>0</td>\n",
       "      <td>Switch</td>\n",
       "      <td>160.02</td>\n",
       "      <td>160.02</td>\n",
       "      <td>115.0</td>\n",
       "      <td>28.0</td>\n",
       "      <td>25.0</td>\n",
       "    </tr>\n",
       "    <tr>\n",
       "      <th>4</th>\n",
       "      <td>Marion Reneau</td>\n",
       "      <td>Macy Chiasson</td>\n",
       "      <td>Mark Smith</td>\n",
       "      <td>2021-03-20</td>\n",
       "      <td>Las Vegas, Nevada, USA</td>\n",
       "      <td>Blue</td>\n",
       "      <td>False</td>\n",
       "      <td>WomenBantamweight</td>\n",
       "      <td>0.125</td>\n",
       "      <td>0.0</td>\n",
       "      <td>...</td>\n",
       "      <td>1</td>\n",
       "      <td>2</td>\n",
       "      <td>2</td>\n",
       "      <td>0</td>\n",
       "      <td>Orthodox</td>\n",
       "      <td>167.64</td>\n",
       "      <td>172.72</td>\n",
       "      <td>135.0</td>\n",
       "      <td>29.0</td>\n",
       "      <td>43.0</td>\n",
       "    </tr>\n",
       "  </tbody>\n",
       "</table>\n",
       "<p>5 rows × 144 columns</p>\n",
       "</div>"
      ],
      "text/plain": [
       "       R_fighter          B_fighter        Referee        date  \\\n",
       "0   Adrian Yanez      Gustavo Lopez  Chris Tognoni  2021-03-20   \n",
       "1   Trevin Giles      Roman Dolidze      Herb Dean  2021-03-20   \n",
       "2    Tai Tuivasa    Harry Hunsucker      Herb Dean  2021-03-20   \n",
       "3  Cheyanne Buys  Montserrat Conejo     Mark Smith  2021-03-20   \n",
       "4  Marion Reneau      Macy Chiasson     Mark Smith  2021-03-20   \n",
       "\n",
       "                 location Winner  title_bout       weight_class  B_avg_KD  \\\n",
       "0  Las Vegas, Nevada, USA    Red       False       Bantamweight     0.000   \n",
       "1  Las Vegas, Nevada, USA    Red       False       Middleweight     0.500   \n",
       "2  Las Vegas, Nevada, USA    Red       False        Heavyweight       NaN   \n",
       "3  Las Vegas, Nevada, USA   Blue       False   WomenStrawweight       NaN   \n",
       "4  Las Vegas, Nevada, USA   Blue       False  WomenBantamweight     0.125   \n",
       "\n",
       "   B_avg_opp_KD  ...  R_win_by_Decision_Unanimous  R_win_by_KO/TKO  \\\n",
       "0           0.0  ...                            0                1   \n",
       "1           0.0  ...                            0                3   \n",
       "2           NaN  ...                            1                3   \n",
       "3           NaN  ...                            0                0   \n",
       "4           0.0  ...                            1                2   \n",
       "\n",
       "   R_win_by_Submission  R_win_by_TKO_Doctor_Stoppage  R_Stance  R_Height_cms  \\\n",
       "0                    0                             0  Orthodox        170.18   \n",
       "1                    0                             0  Orthodox        182.88   \n",
       "2                    0                             0  Southpaw        187.96   \n",
       "3                    0                             0    Switch        160.02   \n",
       "4                    2                             0  Orthodox        167.64   \n",
       "\n",
       "   R_Reach_cms  R_Weight_lbs  B_age  R_age  \n",
       "0       177.80         135.0   31.0   27.0  \n",
       "1       187.96         185.0   32.0   28.0  \n",
       "2       190.50         264.0   32.0   28.0  \n",
       "3       160.02         115.0   28.0   25.0  \n",
       "4       172.72         135.0   29.0   43.0  \n",
       "\n",
       "[5 rows x 144 columns]"
      ]
     },
     "execution_count": 2,
     "metadata": {},
     "output_type": "execute_result"
    }
   ],
   "source": [
    "#we obtain a dataset from Kaggle (https://www.kaggle.com/rajeevw/ufcdata)\n",
    "#this dataset is about UFC-Fight historical data from 1993 to 2021. UFC is a Mixed Martial Arts USA league.\n",
    "\n",
    "df_ufc = pd.read_csv('ufc.csv') \n",
    "\n",
    "df_ufc.head()"
   ]
  },
  {
   "cell_type": "code",
   "execution_count": 3,
   "id": "685e22c8",
   "metadata": {},
   "outputs": [
    {
     "name": "stdout",
     "output_type": "stream",
     "text": [
      "Shape (rows x columns): (6012, 144)\n",
      "Dimensions: 2\n",
      "Columns: Index(['R_fighter', 'B_fighter', 'Referee', 'date', 'location', 'Winner',\n",
      "       'title_bout', 'weight_class', 'B_avg_KD', 'B_avg_opp_KD',\n",
      "       ...\n",
      "       'R_win_by_Decision_Unanimous', 'R_win_by_KO/TKO', 'R_win_by_Submission',\n",
      "       'R_win_by_TKO_Doctor_Stoppage', 'R_Stance', 'R_Height_cms',\n",
      "       'R_Reach_cms', 'R_Weight_lbs', 'B_age', 'R_age'],\n",
      "      dtype='object', length=144)\n",
      "Nan values per variable:\n",
      "R_fighter         0\n",
      "B_fighter         0\n",
      "Referee          32\n",
      "date              0\n",
      "location          0\n",
      "               ... \n",
      "R_Height_cms      4\n",
      "R_Reach_cms     406\n",
      "R_Weight_lbs      2\n",
      "B_age           172\n",
      "R_age            63\n",
      "Length: 144, dtype: int64\n"
     ]
    }
   ],
   "source": [
    "print(\"Shape (rows x columns): \" + str(df_ufc.shape))\n",
    "print(\"Dimensions: \" + str(df_ufc.ndim))\n",
    "print(\"Columns: \" + str(df_ufc.columns))\n",
    "print('Nan values per variable:\\n' + str(df_ufc.isna().sum()))"
   ]
  },
  {
   "cell_type": "code",
   "execution_count": 4,
   "id": "891f8cb2",
   "metadata": {},
   "outputs": [
    {
     "name": "stdout",
     "output_type": "stream",
     "text": [
      "Types of objects:\n",
      "R_fighter        object\n",
      "B_fighter        object\n",
      "Referee          object\n",
      "date             object\n",
      "location         object\n",
      "                 ...   \n",
      "R_Height_cms    float64\n",
      "R_Reach_cms     float64\n",
      "R_Weight_lbs    float64\n",
      "B_age           float64\n",
      "R_age           float64\n",
      "Length: 144, dtype: object\n"
     ]
    }
   ],
   "source": [
    "print(\"Types of objects:\\n\" + str(df_ufc.dtypes))\n",
    "#types of each variable"
   ]
  },
  {
   "cell_type": "markdown",
   "id": "d86798f0",
   "metadata": {},
   "source": [
    "Explanation of the dataframe:\n",
    "\n",
    "Each observation represents a fight.\n",
    "\n",
    "An R or a B before the description is refering to Red (R) or Blue (B) corner. \n",
    "Red corner usually is for the favorite fighter or with the most recognized name.\n",
    "Blue corner usually is for the underdog or the less recognized name"
   ]
  },
  {
   "cell_type": "markdown",
   "id": "b8e7e174",
   "metadata": {},
   "source": [
    "#### Normalitza els atributs categòrics en dummy"
   ]
  },
  {
   "cell_type": "code",
   "execution_count": 5,
   "id": "1f8388ad",
   "metadata": {},
   "outputs": [
    {
     "name": "stdout",
     "output_type": "stream",
     "text": [
      "Before aplying Dummy variables we have: \n",
      "\n",
      "For atribute Winner:\n",
      "Red     3979\n",
      "Blue    1923\n",
      "Draw     110\n",
      "Name: Winner, dtype: int64 \n",
      "\n",
      "For atribute Stance:\n",
      "Orthodox       4538\n",
      "Southpaw       1231\n",
      "Switch          197\n",
      "Open Stance      15\n",
      "Sideways          2\n",
      "Name: R_Stance, dtype: int64 \n",
      "\n",
      "For atribute Title bout:\n",
      "False    5647\n",
      "True      365\n",
      "Name: title_bout, dtype: int64 \n",
      "\n",
      "After aplying Dummy variables we have: \n",
      "\n",
      "      Blue  Draw  Red\n",
      "0        0     0    1\n",
      "1        0     0    1\n",
      "2        0     0    1\n",
      "3        1     0    0\n",
      "4        1     0    0\n",
      "...    ...   ...  ...\n",
      "6007     0     0    1\n",
      "6008     0     0    1\n",
      "6009     0     0    1\n",
      "6010     0     0    1\n",
      "6011     0     0    1\n",
      "\n",
      "[6012 rows x 3 columns]\n",
      "      Open Stance  Orthodox  Sideways  Southpaw  Switch\n",
      "0               0         1         0         0       0\n",
      "1               0         1         0         0       0\n",
      "2               0         0         0         1       0\n",
      "3               0         0         0         0       1\n",
      "4               0         1         0         0       0\n",
      "...           ...       ...       ...       ...     ...\n",
      "6007            0         0         0         1       0\n",
      "6008            0         0         0         1       0\n",
      "6009            0         1         0         0       0\n",
      "6010            0         1         0         0       0\n",
      "6011            0         1         0         0       0\n",
      "\n",
      "[6012 rows x 5 columns]\n",
      "0    5647\n",
      "1     365\n",
      "Name: title_bout, dtype: int64\n"
     ]
    }
   ],
   "source": [
    "#we are going to apply dummy variables for some features: Winner, title_bout and Stance\n",
    "\n",
    "#these are the atributes and their values counting\n",
    "print('Before aplying Dummy variables we have:','\\n')\n",
    "print('For atribute Winner:')\n",
    "print(df_ufc['Winner'].value_counts(),'\\n')\n",
    "print('For atribute Stance:')\n",
    "print(df_ufc['R_Stance'].value_counts(),'\\n')\n",
    "print('For atribute Title bout:')\n",
    "print(df_ufc['title_bout'].value_counts(),'\\n')\n",
    "\n",
    "#for column winner and R_stance we can apply the get_dummies method\n",
    "df_ufc_dummyWinner = pd.get_dummies(df_ufc['Winner'])\n",
    "print('After aplying Dummy variables we have:','\\n')\n",
    "print(df_ufc_dummyWinner)\n",
    "\n",
    "df_ufc_dummyStance = pd.get_dummies(df_ufc['R_Stance'])\n",
    "print(df_ufc_dummyStance)\n",
    "\n",
    "#for title_bout, it has only two bool values, true and false, we can do it by ourselves\n",
    "#assigning 1 to True and 0 to false\n",
    "    \n",
    "df_ufc.loc[df_ufc['title_bout'] == True, 'title_bout'] = 1\n",
    "df_ufc.loc[df_ufc['title_bout'] == False, 'title_bout'] = 0\n",
    "print(df_ufc['title_bout'].value_counts())"
   ]
  },
  {
   "cell_type": "markdown",
   "id": "90c9b8f8",
   "metadata": {},
   "source": [
    "#### Estandaritza els atributs numèrics amb StandardScaler"
   ]
  },
  {
   "cell_type": "code",
   "execution_count": 6,
   "id": "1f66f6f0",
   "metadata": {},
   "outputs": [
    {
     "name": "stdout",
     "output_type": "stream",
     "text": [
      "Data standarized:\n",
      "[[-0.99872471 -0.9999474 ]\n",
      " [ 0.40086898  0.44122805]\n",
      " [ 2.61222701  1.01769823]\n",
      " ...\n",
      " [ 1.10066583  0.44122805]\n",
      " [ 1.52054393  1.01769823]\n",
      " [ 1.10066583 -0.13524213]] \n",
      "\n",
      "\n",
      "Mean for weight and height:\n",
      "1.7030318566819977e-16\n",
      "-3.2452218157884735e-15\n",
      "\n",
      "Std deviation for weight and height:\n",
      "1.0\n",
      "0.9999999999999997\n"
     ]
    },
    {
     "data": {
      "text/plain": [
       "<seaborn.axisgrid.FacetGrid at 0x17972e84550>"
      ]
     },
     "execution_count": 6,
     "metadata": {},
     "output_type": "execute_result"
    },
    {
     "data": {
      "image/png": "[encoded data removed]",
      "text/plain": [
       "<Figure size 360x360 with 1 Axes>"
      ]
     },
     "metadata": {
      "needs_background": "light"
     },
     "output_type": "display_data"
    },
    {
     "data": {
      "image/png": "[encoded data removed]",
      "text/plain": [
       "<Figure size 360x360 with 1 Axes>"
      ]
     },
     "metadata": {
      "needs_background": "light"
     },
     "output_type": "display_data"
    }
   ],
   "source": [
    "#first we install the Scikil Learn module\n",
    "#conda install scikit-learn\n",
    "#now we import the scikit library\n",
    "from sklearn.preprocessing import StandardScaler\n",
    "\n",
    "#now we can apply the StandardScaler function\n",
    "#this method applies standardization to a numeric atribute, \n",
    "#centering data and standard deviation = 1\n",
    "\n",
    "#removing nan data for columns that we will use\n",
    "df_ufc = df_ufc[['R_Weight_lbs','R_Height_cms']].dropna()\n",
    "\n",
    "#initializing the Scaler\n",
    "scaler = StandardScaler()\n",
    "#the fit method compute the mean and std\n",
    "#the transform method performs standardization by centering and scaling\n",
    "df_ufc_trans = scaler.fit_transform(df_ufc[['R_Weight_lbs','R_Height_cms']])\n",
    "\n",
    "#it returns data transformed as a numpy array\n",
    "print('Data standarized:')\n",
    "print(df_ufc_trans,'\\n')\n",
    "\n",
    "#we check mean = 0 and standard deviation = 1\n",
    "weight_trans = df_ufc_trans[:,0]\n",
    "height_trans = df_ufc_trans[:,1]\n",
    "\n",
    "print('\\nMean for weight and height:')\n",
    "print(np.mean(weight_trans))\n",
    "print(np.mean(height_trans))\n",
    "\n",
    "print('\\nStd deviation for weight and height:')\n",
    "print(np.var(weight_trans))\n",
    "print(np.var(height_trans))\n",
    "\n",
    "fig1 = sns.displot(data=weight_trans, kde=True, binwidth=1)\n",
    "fig1.set(title='Data Distribution', xlabel='Weight', ylabel='Count')\n",
    "\n",
    "fig2 = sns.displot(data=height_trans, kde=True, binwidth=1)\n",
    "fig2.set(title='Data Distribution', xlabel='Height', ylabel='Count')"
   ]
  },
  {
   "cell_type": "markdown",
   "id": "73cbc23a",
   "metadata": {},
   "source": [
    "### Exercici 2\n",
    "#### Continua amb el conjunt de dades de tema esportiu que t'agradi i aplica l'anàlisi de components principals."
   ]
  },
  {
   "cell_type": "code",
   "execution_count": 12,
   "id": "c00b1aba",
   "metadata": {},
   "outputs": [
    {
     "name": "stdout",
     "output_type": "stream",
     "text": [
      "Data standarized:\n",
      "[[-0.51995698 -0.95560419 -0.94287738 -1.26359262 -0.95287764 -1.55644944]\n",
      " [ 0.42805938  0.49322769  0.48272978  0.94240891  1.09916881  1.06095977]\n",
      " [ 0.66506348  2.78238205  1.05297264  0.69729763  2.15450699  1.06095977]\n",
      " ...\n",
      " [ 0.42805938  0.49322769  0.76785121  0.94240891  1.09916881  1.06095977]\n",
      " [ 0.42805938  0.49322769  0.48272978  0.45218635  1.09916881  0.18849004]\n",
      " [ 0.66506348  1.07276044  0.76785121  0.45218635  0.51286982  0.47931328]] \n",
      "\n",
      "Data reduced from 6 to 2 dimensions:\n",
      "      principal component 1  principal component 2\n",
      "0                 -2.526850               0.688564\n",
      "1                  1.841197              -0.571812\n",
      "2                  3.471220               0.097959\n",
      "3                 -5.318523               0.792395\n",
      "4                 -1.635520              -1.184832\n",
      "...                     ...                    ...\n",
      "4957              -0.374741              -0.150662\n",
      "4958               1.882819               0.544796\n",
      "4959               1.957523              -0.442799\n",
      "4960               1.291443               0.111980\n",
      "4961               1.617198               0.283505\n",
      "\n",
      "[4962 rows x 2 columns] \n",
      "\n"
     ]
    }
   ],
   "source": [
    "#PCA (Principal Component Analysis) is fundamentally a dimensionality reduction algorithm\n",
    "#the main aim of PCA is to find principal components which can describe the data points\n",
    "#PCA can also be used to filter noisy datasets, such as image compression. \n",
    "#The first principal component expresses the most amount of variance.\n",
    "\n",
    "#we are going to apply PCA to reduce 6 dimensions to 2 dimensions\n",
    "#features must be standarized before applying PCA\n",
    "\n",
    "from sklearn.preprocessing import StandardScaler \n",
    "from sklearn.decomposition import PCA\n",
    "\n",
    "#importing dataset\n",
    "df_ufc = pd.read_csv('ufc.csv') \n",
    "\n",
    "#removing nan data for columns we will use\n",
    "df_ufc = df_ufc[['R_Reach_cms','R_Weight_lbs','R_Height_cms','B_Reach_cms','B_Weight_lbs','B_Height_cms']].dropna()\n",
    "\n",
    "#initializing the Scaler\n",
    "scaler = StandardScaler()\n",
    "\n",
    "#the fit method computes the mean and standard deviation\n",
    "#the transform method performs standardization by centering and scaling\n",
    "df_ufc_std = scaler.fit_transform(df_ufc)\n",
    "print('Data standarized:')\n",
    "print(df_ufc_std,'\\n')\n",
    "\n",
    "#number of dimensions we want to reduce\n",
    "pca = PCA(n_components=2)\n",
    "\n",
    "PrincipalComponents = pca.fit_transform(df_ufc_std)\n",
    "df_ufc_PDA = pd.DataFrame(data = PrincipalComponents, columns = ['principal component 1', 'principal component 2'])\n",
    "\n",
    "print('Data reduced from 6 to 2 dimensions:')\n",
    "print(df_ufc_PDA,'\\n')"
   ]
  },
  {
   "cell_type": "markdown",
   "id": "09ba5f0a",
   "metadata": {},
   "source": [
    "### Exercici 3\n",
    "#### Continua amb el conjunt de dades de tema esportiu que t'agradi i normalitza les dades tenint en compte els outliers."
   ]
  },
  {
   "cell_type": "code",
   "execution_count": 19,
   "id": "96f3c04c",
   "metadata": {},
   "outputs": [
    {
     "data": {
      "image/png": "[encoded data removed]",
      "text/plain": [
       "<Figure size 360x360 with 1 Axes>"
      ]
     },
     "metadata": {
      "needs_background": "light"
     },
     "output_type": "display_data"
    },
    {
     "data": {
      "image/png": "[encoded data removed]",
      "text/plain": [
       "<Figure size 360x360 with 1 Axes>"
      ]
     },
     "metadata": {
      "needs_background": "light"
     },
     "output_type": "display_data"
    },
    {
     "data": {
      "image/png": "[encoded data removed]",
      "text/plain": [
       "<Figure size 360x360 with 1 Axes>"
      ]
     },
     "metadata": {
      "needs_background": "light"
     },
     "output_type": "display_data"
    },
    {
     "name": "stdout",
     "output_type": "stream",
     "text": [
      "Data normalized:\n",
      "[[0.28571429 0.13333333 0.41666667]\n",
      " [0.32142857 0.46666667 0.58333333]\n",
      " [0.32142857 0.99333333 0.625     ]\n",
      " ...\n",
      " [0.42857143 0.6        0.5       ]\n",
      " [0.39285714 0.6        0.5       ]\n",
      " [0.39285714 0.6        0.5       ]]\n",
      "Mix and Max from Data normalized:\n",
      "[0. 0. 0.]\n",
      "[1. 1. 1.]\n"
     ]
    }
   ],
   "source": [
    "#Normalization is to rescale an input variable to the range between 0 and 1\n",
    "#Normalization requires to know the minimum and maximum values for each attribute\n",
    "#Normalization is a scaling technique that does not assume any specific distribution\n",
    "\n",
    "#importing tool to apply normalization\n",
    "from sklearn.preprocessing import MinMaxScaler\n",
    "\n",
    "#importing dataset\n",
    "df_ufc = pd.read_csv('ufc.csv')\n",
    "\n",
    "#removing nan data for columns we will use\n",
    "df_ufc = df_ufc[['R_age','R_Weight_lbs','R_Reach_cms']].dropna()\n",
    "\n",
    "#checking outliers for these features\n",
    "#outliers are close to normal data, it is not necessary to delete them\n",
    "ax = plt.subplots(figsize=(5,5))\n",
    "ax = sns.boxplot(y='R_age', data=df_ufc,  color='lightblue', fliersize=5, linewidth=1 , width=0.3);\n",
    "ax.set_title(\"Age Distribution Data\", fontsize=15)\n",
    "plt.show()\n",
    "\n",
    "ax = plt.subplots(figsize=(5,5))\n",
    "ax = sns.boxplot(y='R_Weight_lbs', data=df_ufc,  color='lightblue', fliersize=5, linewidth=1 , width=0.3);\n",
    "ax.set_title(\"Weight Distribution Data\", fontsize=15)\n",
    "plt.show()\n",
    "\n",
    "ax = plt.subplots(figsize=(5,5))\n",
    "ax = sns.boxplot(y='R_Reach_cms', data=df_ufc,  color='lightblue', fliersize=5, linewidth=1 , width=0.3);\n",
    "ax.set_title(\"Reach Distribution Data\", fontsize=15)\n",
    "plt.show()\n",
    "\n",
    "#we are going to normalize features age, weight and reach from the dataset\n",
    "ufc_data = df_ufc[['R_age','R_Weight_lbs','R_Reach_cms']]\n",
    "\n",
    "#initializing the Scaler\n",
    "mms = MinMaxScaler()\n",
    "\n",
    "#applying the normalization algorithm\n",
    "ufc_data_normal = mms.fit_transform(ufc_data)\n",
    "\n",
    "#checking data normalized and max and min values\n",
    "print('Data normalized:')\n",
    "print(ufc_data_normal)\n",
    "print('Mix and Max from Normalized Data:')\n",
    "print(ufc_data_normal.min(axis=0))\n",
    "print(ufc_data_normal.max(axis=0))\n"
   ]
  }
 ],
 "metadata": {
  "kernelspec": {
   "display_name": "Python 3",
   "language": "python",
   "name": "python3"
  },
  "language_info": {
   "codemirror_mode": {
    "name": "ipython",
    "version": 3
   },
   "file_extension": ".py",
   "mimetype": "text/x-python",
   "name": "python",
   "nbconvert_exporter": "python",
   "pygments_lexer": "ipython3",
   "version": "3.9.1"
  }
 },
 "nbformat": 4,
 "nbformat_minor": 5
}
